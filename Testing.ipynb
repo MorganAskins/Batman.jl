{
 "cells": [
  {
   "cell_type": "code",
   "execution_count": 85,
   "metadata": {},
   "outputs": [
    {
     "data": {
      "image/png": "[encoded data removed]",
      "text/plain": [
       "Figure(PyObject <Figure size 640x480 with 1 Axes>)"
      ]
     },
     "metadata": {},
     "output_type": "display_data"
    }
   ],
   "source": [
    "using PyPlot\n",
    "\n",
    "function biv(x, y)\n",
    "    m1, m2 = 0.0, -0.0\n",
    "    s1, s2 = 4, 2\n",
    "    cor = -0.5\n",
    "    exp(-((x-m1)^2/s1^2+(y-m2)^2/s2^2-2*cor*(x-m1)*(y-m2)/s1/s2)/2/(1-cor^2))/2/π/s1/s2/sqrt(1-cor^2)\n",
    "end\n",
    "\n",
    "x = collect(-10:0.1:10)\n",
    "y = collect(-10:0.1:10)\n",
    "\n",
    "# To get covariance we need:\n",
    "# 1. p(x) and p(y) alone, so margenalize (or profile) first, to get mean and sigma\n",
    "\n",
    "z = [biv(i,j) for i in x, j in y]\n",
    "zz = [biv(i,j) for i in x, j in y]\n",
    "\n",
    "sx, sy = 4, 2\n",
    "mx = x ./ sy\n",
    "my = y ./ sx\n",
    "\n",
    "plt.contourf(mx, my, z)\n",
    "plt.xlim()\n",
    "plt.axis(\"scaled\")\n",
    "plt.show()"
   ]
  },
  {
   "cell_type": "code",
   "execution_count": 60,
   "metadata": {},
   "outputs": [
    {
     "name": "stdout",
     "output_type": "stream",
     "text": [
      "meanx = meanV(x, mx) = 1.9999996011459507\n",
      "varx = sqrt(variance(x, mx, meanx)) = 1.2299990201734246\n",
      "meany = meanV(y, my) = -1.5999994421140304\n",
      "vary = sqrt(variance(y, my, meany)) = 1.5999985263406982\n",
      "cov = covariance(x, y, meanx, meany, z) = -1.8302366285601113\n",
      "cov2(x, y, meanx, meany) = -183.02365116941593\n",
      "cor = (cov / varx) / vary = -0.9299998842780473\n"
     ]
    },
    {
     "data": {
      "text/plain": [
       "-0.9299998842780473"
      ]
     },
     "execution_count": 60,
     "metadata": {},
     "output_type": "execute_result"
    }
   ],
   "source": [
    "my = transpose( sum(z, dims=1) )\n",
    "mx = sum(z, dims=2)\n",
    "\n",
    "mx = mx / sum(mx)\n",
    "my = my / sum(my)\n",
    "\n",
    "function meanV(x, mx)\n",
    "    sum(x.*mx)\n",
    "end\n",
    "\n",
    "function variance(x, mx, mn)\n",
    "    sum((x .- mn).^2 .*mx)\n",
    "end\n",
    "\n",
    "function covariance(x, y, mx, my, z)\n",
    "    N = sum(z)\n",
    "    sum((x .- mx).*transpose(y .- my).*z)/N\n",
    "end\n",
    "\n",
    "@show meanx = meanV(x, mx)\n",
    "@show varx = sqrt( variance(x, mx, meanx) )\n",
    "@show meany = meanV(y, my)\n",
    "@show vary = sqrt( variance(y, my, meany) )\n",
    "\n",
    "@show cov = covariance(x, y, meanx, meany, z)\n",
    "@show cov2(x, y, meanx, meany)\n",
    "@show cor = cov/varx/vary\n",
    "\n",
    "#plt.plot(x, mx)\n",
    "#plt.plot(y, my)\n",
    "#plt.show()"
   ]
  }
 ],
 "metadata": {
  "kernelspec": {
   "display_name": "Julia 1.2.0",
   "language": "julia",
   "name": "julia-1.2"
  },
  "language_info": {
   "file_extension": ".jl",
   "mimetype": "application/julia",
   "name": "julia",
   "version": "1.2.0"
  }
 },
 "nbformat": 4,
 "nbformat_minor": 2
}
