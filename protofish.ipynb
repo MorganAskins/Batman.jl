{
 "cells": [
  {
   "cell_type": "markdown",
   "metadata": {},
   "source": [
    "# Poisson likelihood calculator\n",
    "\n",
    "Given $M$ components, each with an estimated rate $\\vec{\\beta}$ determined by a normal distribution with uncertainty $\\vec{\\sigma}$, calculate the confidence itervals and perform a hypothesis tests for each parameter $b$.\n",
    "\n",
    "Nominally each event corresponds to a set of observables $\\vec{x}$ of $N$ measurements, for any given measurement, the probability for that particular measurement to come from a particular components is given by\n",
    "\n",
    "$$ P_i(\\vec{x}) \\tag{1}$$\n",
    "\n",
    "The prior probability is then formed through a combination of these components such that the total probability is \n",
    "\n",
    "$$ \\mathbf{P} = \\sum_i^M P_i(\\vec{x}) \\tag{2}$$\n",
    "\n",
    "The likelihood for a full data set of $N$ measurements is the product of each event total probability\n",
    "\n",
    "$$\n",
    "\\mathcal{L}(\\vec{x}) = \n",
    "\\prod_j^N \\left( \\sum_i^M b_iP_i(\\vec{x}) \\right) / \\sum_i^Mb_i \n",
    "\\tag{3}\n",
    "$$\n",
    "\n",
    "We can extend the likelihood by proclaiming that each components as well as the sum of components are simply a stochastic process, produces the extended likelihood:\n",
    "\n",
    "$$\n",
    "\\mathcal{L}(\\vec{x}) = \n",
    "\\frac{\\text{e}^{-\\sum_i^Mb_i}}{N!} \\prod_j^N \\left( \\sum_i^M b_iP_i(\\vec{x}) \\right) \n",
    "\\tag{4}\n",
    "$$\n",
    "\n",
    "Finally, we can claim that we have _a priori_ knowledge of the parameters, whether it be through side-band analysis or external constraints, by including those constraints via some prior probability. Given no specific knowledge of the shape of that prior, we will consider the information we receive on the variables to be normally distributed and multiply the likelihood by those constraints\n",
    "\n",
    "$$\n",
    "\\mathcal{L}(\\vec{x}) = \n",
    "\\frac{\\text{e}^{-\\sum_i^Mb_i}}{N!} \n",
    "\\prod_j^N \\left( \\sum_i^M b_iP_i(\\vec{x}) \\right) \n",
    "\\frac{1}{\\sqrt{2\\pi \\sigma_j^2}}\n",
    "\\text{exp}\\left({\\frac{-(\\beta_i-b_i)^2}{2\\sigma_i^2}}\\right)\n",
    "\\tag{5}\n",
    "$$\n",
    "\n",
    "A few definitions to simplify things:\n",
    "$$ \\lambda := \\sum_i^Mb_i \\tag{6}$$\n",
    "\n",
    "Then then our objective function $\\mathcal{O} = -\\text{Ln}\\mathcal{L}$\n",
    "\n",
    "$$\n",
    "\\mathcal{O} = \\lambda + \\text{Ln}N! \n",
    "-\\sum_j^N\\text{Ln}\\left( \\sum_i^M b_iP_i(\\vec{x}) \\right) \n",
    "+ \\sum_i^M \\left( \\frac{(\\beta_i-b_i)^2}{2\\sigma_i^2} \n",
    "    + \\text{Ln}\\sqrt{2\\pi \\sigma_i} \\right)\n",
    "\\tag{7}\n",
    "$$\n",
    "\n",
    "Finally, for a counting analysis we assume that an optimal set of cuts has been applied which optimizes the sensitivity to a particular parameter, which simplifies the likelihood such that\n",
    "\n",
    "$$ P_i(\\vec{x}) := 1 \\tag{8}$$\n",
    "\n",
    "Also, because the shape of the likelihood space is independent of constant parameters, we can drop the $\\text{Ln}\\sqrt{2\\pi \\sigma_i}$ terms. We could also remove the $\\text{Ln}N!$ term as well, but for numerical stability we will keep it around, but use Sterling's approximation: $\\text{Ln}N! \\approx N\\text{Ln}N - N$. The remaining objective function we will thus use is:\n",
    "\n",
    "$$\n",
    "\\mathcal{O} = \\lambda - N\\text{Ln}\\lambda + N\\text{Ln}N - N \n",
    "    + \\sum_i^M \\left( \\frac{(\\beta_i-b_i)^2}{2\\sigma_i^2} \\right)\n",
    "\\tag{9}\n",
    "$$\n",
    "\n",
    "_Note: If the different values of $\\beta$ differ by orders of magnitude, it might be worth forming an affine invariant form of the likelihood, otherwise the $\\text{Ln}\\sqrt{2\\pi \\sigma_i}$ term should not matter_\n",
    "\n",
    "[Profile Likelihood](https://www.stat.tamu.edu/~suhasini/teaching613/chapter3.pdf)"
   ]
  },
  {
   "cell_type": "code",
   "execution_count": 1,
   "metadata": {},
   "outputs": [],
   "source": [
    "include(\"./src/WatchFish.jl\")\n",
    "using .WatchFish"
   ]
  },
  {
   "cell_type": "markdown",
   "metadata": {},
   "source": [
    "### Model Building\n",
    "Three structures are used to build, test, and fit models. These are the `Model`, `Component`, and `Result`--all of which are mutable.\n",
    "\n",
    "We begin by initializing a default `Model` and one-by-one use `add_component!` to modify the `Model`.\n",
    "\n",
    "The intention is to provide multiple ways to evaluate the uncertainties, the default here is to compute the profile likelihood."
   ]
  },
  {
   "cell_type": "code",
   "execution_count": 4,
   "metadata": {},
   "outputs": [
    {
     "name": "stdout",
     "output_type": "stream",
     "text": [
      "Found min, profiling now\n"
     ]
    },
    {
     "data": {
      "text/html": [
       "<table class=\"data-frame\"><thead><tr><th></th><th>Name</th><th>Estimate</th><th>Constraint</th><th>Fit</th><th>Interval_Low</th><th>Interval_High</th></tr><tr><th></th><th>String</th><th>Float64</th><th>Float64</th><th>Float64</th><th>Float64</th><th>Float64</th></tr></thead><tbody><p>4 rows × 6 columns</p><tr><th>1</th><td>Signal</td><td>20.0</td><td>10.0</td><td>19.6751</td><td>0.675092</td><td>37.6751</td></tr><tr><th>2</th><td>Bkg 1</td><td>30.0</td><td>20.0</td><td>28.696</td><td>-6.30398</td><td>64.696</td></tr><tr><th>3</th><td>Bkg 2</td><td>40.0</td><td>45.0</td><td>33.4103</td><td>-11.5897</td><td>78.4103</td></tr><tr><th>4</th><td>Bkg 3</td><td>12.0</td><td>12.0</td><td>11.5246</td><td>-10.4754</td><td>34.5246</td></tr></tbody></table>"
      ],
      "text/latex": [
       "\\begin{tabular}{r|cccccc}\n",
       "\t& Name & Estimate & Constraint & Fit & Interval\\_Low & Interval\\_High\\\\\n",
       "\t\\hline\n",
       "\t& String & Float64 & Float64 & Float64 & Float64 & Float64\\\\\n",
       "\t\\hline\n",
       "\t1 & Signal & 20.0 & 10.0 & 19.6751 & 0.675092 & 37.6751 \\\\\n",
       "\t2 & Bkg 1 & 30.0 & 20.0 & 28.696 & -6.30398 & 64.696 \\\\\n",
       "\t3 & Bkg 2 & 40.0 & 45.0 & 33.4103 & -11.5897 & 78.4103 \\\\\n",
       "\t4 & Bkg 3 & 12.0 & 12.0 & 11.5246 & -10.4754 & 34.5246 \\\\\n",
       "\\end{tabular}\n"
      ],
      "text/plain": [
       "4×6 DataFrames.DataFrame. Omitted printing of 1 columns\n",
       "│ Row │ Name   │ Estimate │ Constraint │ Fit     │ Interval_Low │\n",
       "│     │ \u001b[90mString\u001b[39m │ \u001b[90mFloat64\u001b[39m  │ \u001b[90mFloat64\u001b[39m    │ \u001b[90mFloat64\u001b[39m │ \u001b[90mFloat64\u001b[39m      │\n",
       "├─────┼────────┼──────────┼────────────┼─────────┼──────────────┤\n",
       "│ 1   │ Signal │ 20.0     │ 10.0       │ 19.6751 │ 0.675092     │\n",
       "│ 2   │ Bkg 1  │ 30.0     │ 20.0       │ 28.696  │ -6.30398     │\n",
       "│ 3   │ Bkg 2  │ 40.0     │ 45.0       │ 33.4103 │ -11.5897     │\n",
       "│ 4   │ Bkg 3  │ 12.0     │ 12.0       │ 11.5246 │ -10.4754     │"
      ]
     },
     "execution_count": 4,
     "metadata": {},
     "output_type": "execute_result"
    }
   ],
   "source": [
    "# In the fish model we take the generic likelihood and enforce poisson statistics, thereby\n",
    "# eliminating correlations between parameters.\n",
    "\n",
    "m = Model()\n",
    "\n",
    "add_component!(m, \"Signal\", 20.0; σ=10.0)\n",
    "add_component!(m, \"Bkg 1\",  30.0; σ=20.0)\n",
    "add_component!(m, \"Bkg 2\",  40.0; σ=45.0)\n",
    "add_component!(m, \"Bkg 3\",  12.0; σ=12.0)\n",
    "\n",
    "data = 93 #events\n",
    "results = run_fish!(m, data)\n",
    "\n",
    "println(\"Found min, profiling now\")\n",
    "\n",
    "# Results stored in a DataFrame.jl\n",
    "compute_profiled_uncertainties!(results; σ=2)\n",
    "pretty_results(results)"
   ]
  },
  {
   "cell_type": "code",
   "execution_count": null,
   "metadata": {},
   "outputs": [],
   "source": [
    "using PyPlot\n",
    "plt.style.use(\"watchman\")\n",
    "\n",
    "interval_plot(results, \"Signal\")\n",
    "plt.show()"
   ]
  },
  {
   "cell_type": "code",
   "execution_count": 5,
   "metadata": {},
   "outputs": [
    {
     "data": {
      "image/png": "[encoded data removed]",
      "text/plain": [
       "Figure(PyObject <Figure size 640x480 with 16 Axes>)"
      ]
     },
     "metadata": {},
     "output_type": "display_data"
    }
   ],
   "source": [
    "## Profile likelihood of each parameter\n",
    "## WITHOUT a prior, we can take the normalized objective function\n",
    "using PyPlot\n",
    "using NLopt\n",
    "using Printf\n",
    "\n",
    "function mean_comp(x, y)\n",
    "    sum(x.*y)\n",
    "end\n",
    "\n",
    "function variance(x, y, μ)\n",
    "    sum( (x .- μ).^2 .*y )\n",
    "end\n",
    "\n",
    "function covariance(x, y, μx, μy, z)\n",
    "    N = sum(z)\n",
    "    k = transpose(x .- μx).*(y .- μy).*z\n",
    "    sum( k )/N\n",
    "end\n",
    "\n",
    "function correlation_plots(results; steps=200)\n",
    "    ## Everything stored in results\n",
    "    M = results.model.dims\n",
    "    fig, ax = subplots(nrows=M, ncols=M)\n",
    "\n",
    "    ## We will be lazy for now and robust later. Lazy way, assume we know the range\n",
    "    # What does a slice in space look like?\n",
    "    # We can optimize again, with a constraint in place (bounds)\n",
    "    levels = exp.(-[Inf,11.83,6.18,2.3,0].^0.5./2)\n",
    "    \n",
    "    for (i, (k,v)) in enumerate(results.model.component_dict)\n",
    "        for (j, (l,w)) in enumerate(results.model.component_dict)\n",
    "            if j < M\n",
    "                ax[j, i].set_xticklabels([])\n",
    "            end\n",
    "            if i > 1\n",
    "                ax[j, i].set_yticklabels([])\n",
    "            end\n",
    "            if i > j\n",
    "                ax[j, i].axis(\"off\")\n",
    "                continue\n",
    "            end\n",
    "            # profile this parameter\n",
    "            nlow = copy(results.lower_bounds)\n",
    "            nhigh = copy(results.upper_bounds)\n",
    "            p0 = copy(results.min_parameters)\n",
    "            nll = []\n",
    "            if i != j\n",
    "                A = range(minimum(v.likelihood_x), length=steps, stop=maximum(v.likelihood_x)) |> collect\n",
    "                B = range(minimum(w.likelihood_x), length=steps+5, stop=maximum(w.likelihood_x)) |> collect\n",
    "                function getnll(a, b)\n",
    "                    nlow[i], nlow[j] = a, b\n",
    "                    nhigh[i], nhigh[j] = a, b\n",
    "                    results.opt.lower_bounds = nlow\n",
    "                    results.opt.upper_bounds = nhigh\n",
    "                    #p0 = copy(results.min_parameters)\n",
    "                    p0[i], p0[j] = a, b\n",
    "                    minf, minx, ret = optimize!(results.opt, p0)\n",
    "                    if minf == 0\n",
    "                        minf = 10000\n",
    "                    end\n",
    "                    exp(-minf)\n",
    "                end\n",
    "                Z = [getnll(a, b) for b in B, a in A]\n",
    "                Z = Z / maximum(Z)\n",
    "                \n",
    "                ## Given Z, A, B\n",
    "                yb = sum(Z, dims=2)\n",
    "                ya = transpose( sum(Z, dims=1) )\n",
    "                ya = ya / sum(ya)\n",
    "                yb = yb / sum(yb)\n",
    "                \n",
    "                mean_a = mean_comp(A, ya)\n",
    "                mean_b = mean_comp(B, yb)\n",
    "                var_a = sqrt( variance(A, ya, mean_a) )\n",
    "                var_b = sqrt( variance(B, yb, mean_b) )\n",
    "                cov = covariance(A, B, mean_a, mean_b, Z)\n",
    "                cor = cov / var_a / var_b\n",
    "                ax[i, j].text(0,0.5, @sprintf(\"Cor: %0.3f\", cor))\n",
    "                ax[j,i].contourf(A, B, Z, levels=levels)\n",
    "                continue\n",
    "            end\n",
    "            ax[i, i].plot( v.likelihood_x, v.likelihood_y )\n",
    "            ax[i, i].set_title(k)\n",
    "            ax[i,i].set_ylim(0, 1.2)\n",
    "        end\n",
    "    end\n",
    "end\n",
    "## Lets do a diagonal plot\n",
    "\n",
    "correlation_plots(results)\n",
    "show()"
   ]
  },
  {
   "cell_type": "code",
   "execution_count": null,
   "metadata": {},
   "outputs": [],
   "source": [
    "# Correlation Matrix"
   ]
  },
  {
   "cell_type": "code",
   "execution_count": null,
   "metadata": {},
   "outputs": [],
   "source": [
    "# Generate fake experiments; two set => Positive, Negative"
   ]
  },
  {
   "cell_type": "code",
   "execution_count": null,
   "metadata": {},
   "outputs": [],
   "source": [
    "# Cowen Plot"
   ]
  },
  {
   "cell_type": "code",
   "execution_count": null,
   "metadata": {},
   "outputs": [],
   "source": [
    "# ROC curve"
   ]
  },
  {
   "cell_type": "code",
   "execution_count": null,
   "metadata": {},
   "outputs": [],
   "source": [
    "# Confusion Matrix"
   ]
  },
  {
   "cell_type": "code",
   "execution_count": null,
   "metadata": {},
   "outputs": [],
   "source": [
    "# Documentation"
   ]
  },
  {
   "cell_type": "code",
   "execution_count": null,
   "metadata": {},
   "outputs": [],
   "source": [
    "# Refactor code into sub-files, project.toml, mybinder, etc ..."
   ]
  },
  {
   "cell_type": "code",
   "execution_count": null,
   "metadata": {},
   "outputs": [],
   "source": [
    "# Time dependent systematic (maybe)"
   ]
  }
 ],
 "metadata": {
  "@webio": {
   "lastCommId": null,
   "lastKernelId": null
  },
  "kernelspec": {
   "display_name": "Julia 1.2.0",
   "language": "julia",
   "name": "julia-1.2"
  },
  "language_info": {
   "file_extension": ".jl",
   "mimetype": "application/julia",
   "name": "julia",
   "version": "1.2.0"
  }
 },
 "nbformat": 4,
 "nbformat_minor": 2
}
