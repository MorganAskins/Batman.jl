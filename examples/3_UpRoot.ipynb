{
 "cells": [
  {
   "cell_type": "markdown",
   "metadata": {},
   "source": [
    "## Reading data from ROOT using UpROOT\n",
    "\n",
    "_For flat data structures, it's very simple to read in data using uproot,\n",
    "especially when that data can fit in memory._"
   ]
  },
  {
   "cell_type": "code",
   "execution_count": null,
   "metadata": {},
   "outputs": [],
   "source": [
    "push!(LOAD_PATH, \"../src/\")\n",
    "using Batman\n",
    "using UpROOT\n",
    "using Random\n",
    "using DataFrames\n",
    "\n",
    "uproot = UpROOT.uproot"
   ]
  },
  {
   "cell_type": "code",
   "execution_count": null,
   "metadata": {},
   "outputs": [],
   "source": [
    "# Create a root data file using only uproot.\n",
    "events = 10000\n",
    "function bivariate(x, y, σx, σy, μx, μy, ρ)\n",
    "    exp(-( (x-μx)^2/σx^2+(y-μy)^2/σy^2 - (2*ρ*(x-μx)*(y-μy))/σxσy )/(2*(1-ρ^2)))/(2*π*σx*σy*√(1-ρ^2))\n",
    "end\n",
    "\n",
    "#\n",
    "# file = uproot.recreate(\"tmp.root\", compression=uproot.ZLIB(4))"
   ]
  },
  {
   "cell_type": "code",
   "execution_count": null,
   "metadata": {},
   "outputs": [],
   "source": [
    "# Read in that data file and perform a spectral fit."
   ]
  }
 ],
 "metadata": {
  "kernelspec": {
   "display_name": "Julia 1.3.1",
   "language": "julia",
   "name": "julia-1.3"
  },
  "language_info": {
   "file_extension": ".jl",
   "mimetype": "application/julia",
   "name": "julia",
   "version": "1.3.1"
  }
 },
 "nbformat": 4,
 "nbformat_minor": 2
}
