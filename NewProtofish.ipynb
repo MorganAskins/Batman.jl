{
 "cells": [
  {
   "cell_type": "code",
   "execution_count": 1,
   "metadata": {},
   "outputs": [],
   "source": [
    "include(\"./src/WatchFish.jl\")\n",
    "using .WatchFish\n",
    "using BenchmarkTools"
   ]
  },
  {
   "cell_type": "code",
   "execution_count": 3,
   "metadata": {},
   "outputs": [
    {
     "name": "stdout",
     "output_type": "stream",
     "text": [
      "seval = \"lognormal(x[1],10.0,2.0,) +logpoisson(16.0,x[2],x[1],) \"\n",
      "nll.numparams = 2\n"
     ]
    },
    {
     "data": {
      "text/plain": [
       "(-3.5527032637070938e-15, [9.999999999795891, 5.999999800158216], :FTOL_REACHED)"
      ]
     },
     "execution_count": 3,
     "metadata": {},
     "output_type": "execute_result"
    }
   ],
   "source": [
    "# We could build a special Counting model in\n",
    "# src/models/ <= Predefined models\n",
    "s    = Parameter(\"Signal\"; init=2.0)\n",
    "b    = Parameter(\"Bkg1\"; init=10.0)\n",
    "mb   = Parameter(\"bhat\"; init=10.0, constant=true )\n",
    "sb   = Parameter(\"bvar\"; init=2.0, constant=true  )\n",
    "data = Parameter(\"data\"; init=16.0, constant=true )\n",
    "\n",
    "oblist = Array{NLogPDF}(undef, 0)\n",
    "push!(oblist, NLogPDF(\"lognormal\", b, mb, sb) )\n",
    "push!(oblist, NLogPDF(\"logpoisson\", data, s, b))\n",
    "\n",
    "nll = NLogLikelihood(oblist)\n",
    "#@show nll.variableList\n",
    "@show nll.numparams\n",
    "\n",
    "#@benchmark nll.objective([10.0, 6.0])\n",
    "\n",
    "optimize_model!(nll)"
   ]
  },
  {
   "cell_type": "code",
   "execution_count": 30,
   "metadata": {},
   "outputs": [
    {
     "name": "stdout",
     "output_type": "stream",
     "text": [
      "size(data, 1) = 1000\n",
      "seval = \"gausfit(x[1],x[2],) +logpoisson(1000.0,x[3],) \"\n"
     ]
    },
    {
     "data": {
      "text/plain": [
       "(2663.613345376717, [19.892578125, 3.4713320298628387, 999.9994773982974], :FTOL_REACHED)"
      ]
     },
     "execution_count": 30,
     "metadata": {},
     "output_type": "execute_result"
    }
   ],
   "source": [
    "# shape, 2 bkg + signal\n",
    "using Random\n",
    "using DataFrames\n",
    "\n",
    "add_dataset(:data, DataFrame( energy=( randn(1000).*3.5 .+ 20.0 )) )\n",
    "\n",
    "# Todo, add this as return to add_dataset, and put in macro\n",
    "data = WatchFish.data\n",
    "\n",
    "@show size(data, 1)\n",
    "\n",
    "@addfunction gausfit(μ,σ) = begin\n",
    "    sum( -log.( exp.(-( data.energy.-μ).^2/2/σ^2)/sqrt(2π*σ^2) ) )\n",
    "end\n",
    "\n",
    "pauli = Parameter(\"pauli\"; init=15.0)\n",
    "tommy = Parameter(\"tommy\"; init=2.5)\n",
    "# sofy = Dataset(\"j\")\n",
    "norm = Parameter(\"N\"; init=10.0)\n",
    "#observation_count = Parameter(\"obs\"; init=Float64( size(data,1) ), constant=true )\n",
    "observation_count = Parameter(\"obs\"; init=1000.0, constant=true )\n",
    "extend = NLogPDF(\"logpoisson\", observation_count, norm)\n",
    "\n",
    "pdf = NLogPDF(\"gausfit\", pauli, tommy)\n",
    "nll = NLogLikelihood([pdf, extend])\n",
    "\n",
    "#nll.objective([20.0, 3.5])\n",
    "_, bfit, _ = optimize_model!(nll)\n",
    "\n"
   ]
  },
  {
   "cell_type": "code",
   "execution_count": 31,
   "metadata": {},
   "outputs": [
    {
     "data": {
      "image/png": "[encoded data removed]",
      "text/plain": [
       "Figure(PyObject <Figure size 640x480 with 1 Axes>)"
      ]
     },
     "metadata": {},
     "output_type": "display_data"
    },
    {
     "name": "stdout",
     "output_type": "stream",
     "text": [
      "bfit = [19.892578125, 3.4713320298628387, 999.9994773982974]\n"
     ]
    }
   ],
   "source": [
    "using PyPlot\n",
    "\n",
    "@show bfit\n",
    "\n",
    "x = collect(0:1:50)\n",
    "plt.hist(data.energy, bins=x)\n",
    "plt.show()"
   ]
  },
  {
   "cell_type": "code",
   "execution_count": 89,
   "metadata": {},
   "outputs": [
    {
     "name": "stdout",
     "output_type": "stream",
     "text": [
      "seval = \"spectralpdf(x[1],x[2],x[3],20.0,23.0,18.0,2.0,5.0,1.0,) +logextend(35.0,x[1],x[2],x[3],) \"\n",
      "bfit = [12.23699951171875, 21.283981323242188, 5.375]\n"
     ]
    },
    {
     "data": {
      "text/plain": [
       "BenchmarkTools.Trial: \n",
       "  memory estimate:  4.50 KiB\n",
       "  allocs estimate:  111\n",
       "  --------------\n",
       "  minimum time:     10.791 μs (0.00% GC)\n",
       "  median time:      12.380 μs (0.00% GC)\n",
       "  mean time:        18.483 μs (33.64% GC)\n",
       "  maximum time:     49.350 ms (99.91% GC)\n",
       "  --------------\n",
       "  samples:          10000\n",
       "  evals/sample:     1"
      ]
     },
     "execution_count": 89,
     "metadata": {},
     "output_type": "execute_result"
    }
   ],
   "source": [
    "## Lets fit the normalization, given we know the shapes\n",
    "df1 = DataFrame(energy=( randn(10).*2.0 .+ 20.0 ) )\n",
    "append!(df1, DataFrame(energy=( randn(20).*5.0 .+ 23.0 ) ))\n",
    "append!(df1, DataFrame(energy=( randn(5).*1.0 .+ 18.0 ) ))\n",
    "\n",
    "add_dataset(:tri, df1 )\n",
    "tri = WatchFish.tri\n",
    "\n",
    "@addfunction shape(μ, σ) = @. exp(-(tri.energy-μ)^2/2/σ^2)/sqrt(2π*σ^2)\n",
    "#@addfunction shape(μ, σ) = @. tri.energy*0 + 1\n",
    "\n",
    "## Free parameters\n",
    "s  = Parameter(\"signal\"; init=1.0)\n",
    "b1 = Parameter(\"bkg1\"; init=1.0)\n",
    "b2 = Parameter(\"bkg2\"; init=1.0)\n",
    "## Data counts\n",
    "observation_count = Parameter(\"obs\"; init=Float64( size(tri,1) ), constant=true )\n",
    "## Known Means\n",
    "sm = Parameter(\"Signal Mean\"; init=20.0, constant=true)\n",
    "bm1 = Parameter(\"Bkg1 Mean\"; init=23.0, constant=true)\n",
    "bm2 = Parameter(\"Bkg2 Mean\"; init=18.0, constant=true)\n",
    "## Known Sigma\n",
    "ss = Parameter(\"Signal Sig\"; init=2.0, constant=true)\n",
    "bs1 = Parameter(\"Bkg1 Sig\"; init=5.0, constant=true)\n",
    "bs2 = Parameter(\"Bkg2 Sig\"; init=1.0, constant=true)\n",
    "## Build the PDF functions\n",
    "@addfunction spectralpdf(b1, b2, b3, m1, m2, m3, s1, s2, s3) = begin\n",
    "    -sum(log.( b1*shape(m1, s1) .+ b2*shape(m2, s2) .+ b3*shape(m3, s3) ))\n",
    "end\n",
    "@addfunction logextend(n, x...) = begin\n",
    "    λ = sum([x...])\n",
    "    λ + n*log(n) - n\n",
    "end\n",
    "## Construct NLL\n",
    "ob1 = NLogPDF(\"spectralpdf\", s, b1, b2, sm, bm1, bm2, ss, bs1, bs2)\n",
    "ob2 = NLogPDF(\"logextend\", observation_count, s, b1, b2)\n",
    "nll = NLogLikelihood([ob1, ob2])\n",
    "\n",
    "_, bfit, _ = optimize_model!(nll)\n",
    "\n",
    "@show bfit\n",
    "@benchmark nll.objective(bfit)\n",
    "#plt.hist(df1.energy, bins=collect(1:1:30))\n",
    "#@show WatchFish.spectralpdf(1.0, 2.0, 3.0,1.0, 2.0, 3.0,1.0, 2.0, 3.0)\n",
    "#@show log.(2*WatchFish.shape(1.0, 1.0) .+ 3*WatchFish.shape(1.0, 1.0))\n"
   ]
  },
  {
   "cell_type": "code",
   "execution_count": 90,
   "metadata": {},
   "outputs": [],
   "source": [
    "## NICE;"
   ]
  }
 ],
 "metadata": {
  "@webio": {
   "lastCommId": null,
   "lastKernelId": null
  },
  "kernelspec": {
   "display_name": "Julia 1.2.0",
   "language": "julia",
   "name": "julia-1.2"
  },
  "language_info": {
   "file_extension": ".jl",
   "mimetype": "application/julia",
   "name": "julia",
   "version": "1.2.0"
  }
 },
 "nbformat": 4,
 "nbformat_minor": 2
}
