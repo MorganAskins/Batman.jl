{
 "cells": [
  {
   "cell_type": "markdown",
   "metadata": {},
   "source": [
    "Based on the\n",
    "[Batman Curve](http://mathworld.wolfram.com/BatmanCurve.html)"
   ]
  },
  {
   "cell_type": "code",
   "execution_count": null,
   "metadata": {},
   "outputs": [],
   "source": [
    "using PyPlot"
   ]
  },
  {
   "cell_type": "code",
   "execution_count": null,
   "metadata": {},
   "outputs": [],
   "source": [
    "σ(x) = @. √(1-x^2.0)\n",
    "e(x) = @. 3σ(x/7.0)\n",
    "s(x) = @. 4.2 - 0.5x - 2.8σ(0.5x-0.5)\n",
    "b(x) = @. σ(abs(2-x)-1)-x.^2/11 + 0.5x - 3\n",
    "c(x) = [1.7, 1.7, 2.6, 0.9]\n",
    "\n",
    "p(x, f) = fill_between(x, f(abs.(x)), color=\"black\" )\n",
    "\n",
    "p(3:0.01:7, e)\n",
    "p(-7:0.01:-3, e)\n",
    "p(4:0.01:7, t->-e(t))\n",
    "p(-7:0.01:-4, t->-e(t))\n",
    "p(1:0.01:3, s)\n",
    "p(-3:0.01:-1, s)\n",
    "p(-4:0.01:4, b)\n",
    "p([0,0.5,0.8,1], c)\n",
    "p(-[0,0.5,0.8,1], c)"
   ]
  }
 ],
 "metadata": {
  "kernelspec": {
   "display_name": "Julia 1.3.1",
   "language": "julia",
   "name": "julia-1.3"
  },
  "language_info": {
   "file_extension": ".jl",
   "mimetype": "application/julia",
   "name": "julia",
   "version": "1.3.1"
  }
 },
 "nbformat": 4,
 "nbformat_minor": 2
}
