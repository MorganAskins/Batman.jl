{
 "cells": [
  {
   "cell_type": "code",
   "execution_count": 9,
   "metadata": {},
   "outputs": [
    {
     "name": "stdout",
     "output_type": "stream",
     "text": [
      "145 ns ± 0.255 ns per loop (mean ± std. dev. of 7 runs, 10000000 loops each)\n",
      "163 ns ± 0.474 ns per loop (mean ± std. dev. of 7 runs, 10000000 loops each)\n"
     ]
    }
   ],
   "source": [
    "import numba\n",
    "import timeit\n",
    "\n",
    "@numba.njit\n",
    "def f(a, b):\n",
    "    return a + b\n",
    "\n",
    "@numba.njit\n",
    "def g(b, c):\n",
    "    return b + c\n",
    "\n",
    "@numba.njit\n",
    "def h(a, b, c):\n",
    "    return f(a, b) + g(b, c) + g(b, c) + f(a, b)\n",
    "\n",
    "%timeit f(1, 2)\n",
    "\n",
    "%timeit h(1, 2, 3)"
   ]
  },
  {
   "cell_type": "code",
   "execution_count": null,
   "metadata": {},
   "outputs": [],
   "source": []
  }
 ],
 "metadata": {
  "kernelspec": {
   "display_name": "Python 3",
   "language": "python",
   "name": "python3"
  },
  "language_info": {
   "codemirror_mode": {
    "name": "ipython",
    "version": 3
   },
   "file_extension": ".py",
   "mimetype": "text/x-python",
   "name": "python",
   "nbconvert_exporter": "python",
   "pygments_lexer": "ipython3",
   "version": "3.7.4+"
  }
 },
 "nbformat": 4,
 "nbformat_minor": 2
}
