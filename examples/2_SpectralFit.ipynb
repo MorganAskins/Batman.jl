{
 "cells": [
  {
   "cell_type": "markdown",
   "metadata": {},
   "source": [
    "# Spectral Fit with systematics\n",
    "\n",
    "Given a set of 1-dimensional PDFs, we would like to fit the number of events\n",
    "of each type in the dataset, knowing their distributions _a priori_."
   ]
  },
  {
   "cell_type": "code",
   "execution_count": 1,
   "metadata": {},
   "outputs": [],
   "source": [
    "push!(LOAD_PATH, \"../src/\")\n",
    "using Batman\n",
    "using DataFrames\n",
    "using PyPlot"
   ]
  },
  {
   "cell_type": "code",
   "execution_count": 2,
   "metadata": {},
   "outputs": [
    {
     "data": {
      "image/png": "[encoded data removed]",
      "text/plain": [
       "Figure(PyObject <Figure size 640x480 with 1 Axes>)"
      ]
     },
     "metadata": {},
     "output_type": "display_data"
    }
   ],
   "source": [
    "# Create a fake data set (stored in a dataframe)\n",
    "function generate_dataset()\n",
    "    norm = [150, 300, 40]\n",
    "    mvs = [20.0, 23.0, 18.0] # mean values\n",
    "    svs = [2.0, 5.0, 1.0]    # sigma values\n",
    "\n",
    "    df1 = DataFrame(energy=( randn(norm[1]).*svs[1] .+ mvs[1] ) )\n",
    "    append!(df1, DataFrame(energy=( randn(norm[2]).*svs[2] .+ mvs[2] ) ))\n",
    "    append!(df1, DataFrame(energy=( randn(norm[3]).*svs[3] .+ mvs[3] ) ))\n",
    "\n",
    "    # Stitch the dataset into the module\n",
    "    add_dataset(:tri, df1 )\n",
    "    Batman.tri\n",
    "end\n",
    "\n",
    "# Visualize the total dataset\n",
    "data = generate_dataset()\n",
    "plt.hist(data.energy, bins=collect(1:0.5:40))\n",
    "plt.show()"
   ]
  },
  {
   "cell_type": "code",
   "execution_count": 3,
   "metadata": {},
   "outputs": [
    {
     "name": "stdout",
     "output_type": "stream",
     "text": [
      "model.lower_bounds = Float64[]\n"
     ]
    },
    {
     "data": {
      "text/html": [
       "<table class=\"data-frame\"><thead><tr><th></th><th>Name</th><th>Fit</th><th>Interval_Low</th><th>Interval_High</th></tr><tr><th></th><th>String</th><th>Float64</th><th>Float64</th><th>Float64</th></tr></thead><tbody><p>3 rows × 4 columns</p><tr><th>1</th><td>signal</td><td>105.529</td><td>82.5292</td><td>129.529</td></tr><tr><th>2</th><td>bkg1</td><td>324.49</td><td>301.49</td><td>349.49</td></tr><tr><th>3</th><td>bkg2</td><td>59.9853</td><td>45.9853</td><td>74.9853</td></tr></tbody></table>"
      ],
      "text/latex": [
       "\\begin{tabular}{r|cccc}\n",
       "\t& Name & Fit & Interval\\_Low & Interval\\_High\\\\\n",
       "\t\\hline\n",
       "\t& String & Float64 & Float64 & Float64\\\\\n",
       "\t\\hline\n",
       "\t1 & signal & 105.529 & 82.5292 & 129.529 \\\\\n",
       "\t2 & bkg1 & 324.49 & 301.49 & 349.49 \\\\\n",
       "\t3 & bkg2 & 59.9853 & 45.9853 & 74.9853 \\\\\n",
       "\\end{tabular}\n"
      ],
      "text/plain": [
       "3×4 DataFrame\n",
       "│ Row │ Name   │ Fit     │ Interval_Low │ Interval_High │\n",
       "│     │ \u001b[90mString\u001b[39m │ \u001b[90mFloat64\u001b[39m │ \u001b[90mFloat64\u001b[39m      │ \u001b[90mFloat64\u001b[39m       │\n",
       "├─────┼────────┼─────────┼──────────────┼───────────────┤\n",
       "│ 1   │ signal │ 105.529 │ 82.5292      │ 129.529       │\n",
       "│ 2   │ bkg1   │ 324.49  │ 301.49       │ 349.49        │\n",
       "│ 3   │ bkg2   │ 59.9853 │ 45.9853      │ 74.9853       │"
      ]
     },
     "execution_count": 3,
     "metadata": {},
     "output_type": "execute_result"
    }
   ],
   "source": [
    "# Put together a custom model to fit to the generated dataset\n",
    "model = CustomModel()\n",
    "\n",
    "@addfunction shape(μ, σ) = @. exp(-(tri.energy-μ)^2/2/σ^2)/sqrt(2π*σ^2)\n",
    "\n",
    "## Free parameters\n",
    "s  = Parameter(\"signal\"; init=100.0)\n",
    "b1 = Parameter(\"bkg1\"; init=100.0)\n",
    "b2 = Parameter(\"bkg2\"; init=100.0)\n",
    "## Data counts\n",
    "observation_count = Parameter(\"obs\"; init=Float64( size(data,1) ), constant=true )\n",
    "## Known Means\n",
    "sm  = Constant(\"Signal Mean\", 20.0)\n",
    "bm1 = Constant(\"Bkg1 Mean\", 23.0)\n",
    "bm2 = Constant(\"Bkg2 Mean\", 18.0)\n",
    "## Known Sigma\n",
    "ss  = Constant(\"Signal Sig\", 2.0)\n",
    "bs1 = Constant(\"Bkg1 Sig\", 5.0)\n",
    "bs2 = Constant(\"Bkg2 Sig\", 1.0)\n",
    "\n",
    "## Build the PDF functions\n",
    "@addfunction spectralpdf(b1, b2, b3, m1, m2, m3, s1, s2, s3) = begin\n",
    "    -sum(log.( b1*shape(m1, s1) .+ b2*shape(m2, s2) .+ b3*shape(m3, s3) ))\n",
    "end\n",
    "@addfunction logextend(n, x...) = begin\n",
    "    λ = sum([x...])\n",
    "    λ + n*log(n) - n\n",
    "end\n",
    "## Construct NLL\n",
    "ob1 = NLogPDF(\"spectralpdf\", s, b1, b2, sm, bm1, bm2, ss, bs1, bs2)\n",
    "ob2 = NLogPDF(\"logextend\", observation_count, s, b1, b2)\n",
    "\n",
    "## Include the above in our model\n",
    "add_parameters!(model, [s, b1, b2, observation_count, sm, bm1, bm2, ss, bs1, bs2])\n",
    "add_nlogpdfs!(model, [ob1, ob2])\n",
    "@show model.lower_bounds\n",
    "results = minimize!(model)\n",
    "\n",
    "compute_profiled_uncertainties!(results; σ=1)\n",
    "pretty_results(results)"
   ]
  },
  {
   "cell_type": "code",
   "execution_count": null,
   "metadata": {},
   "outputs": [],
   "source": [
    "a = getparam(results.model, \"bkg2\")\n",
    "x = a.likelihood_x\n",
    "y = a.likelihood_y\n",
    "plt.plot(x, y)\n",
    "plt.show()"
   ]
  },
  {
   "cell_type": "code",
   "execution_count": null,
   "metadata": {},
   "outputs": [],
   "source": [
    "## Given that the model is ready, we could run it over many datasets\n",
    "trials = 3\n",
    "\n",
    "fit_set = []\n",
    "for i = 1:trials\n",
    "    generate_dataset()\n",
    "    iter_results = minimize!(model)\n",
    "    push!(fit_set, iter_results.min_parameters)\n",
    "end\n",
    "\n",
    "@show fit_set"
   ]
  },
  {
   "cell_type": "code",
   "execution_count": null,
   "metadata": {},
   "outputs": [],
   "source": [
    "correlation_plots2(results)"
   ]
  }
 ],
 "metadata": {
  "@webio": {
   "lastCommId": null,
   "lastKernelId": null
  },
  "kernelspec": {
   "display_name": "Julia 1.3.1",
   "language": "julia",
   "name": "julia-1.3"
  },
  "language_info": {
   "file_extension": ".jl",
   "mimetype": "application/julia",
   "name": "julia",
   "version": "1.3.1"
  }
 },
 "nbformat": 4,
 "nbformat_minor": 2
}
